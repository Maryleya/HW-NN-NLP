{
  "cells": [
    {
      "cell_type": "markdown",
      "source": [
        "# **Мария Сухарева БКЛ-201**"
      ],
      "metadata": {
        "id": "Tdx2LvjPVxmy"
      }
    },
    {
      "cell_type": "code",
      "execution_count": 1,
      "metadata": {
        "id": "hO8wnQyp2xh0"
      },
      "outputs": [],
      "source": [
        "import json\n",
        "import random\n",
        "from tqdm import tqdm\n",
        "import numpy as np\n",
        "import pandas as pd\n",
        "\n",
        "from matplotlib import pyplot as plt\n",
        "from sklearn.decomposition import TruncatedSVD\n",
        "from sklearn.manifold import TSNE\n",
        "\n",
        "import torch\n",
        "\n",
        "from pylab import rcParams\n",
        "rcParams['figure.figsize'] = 15, 15"
      ]
    },
    {
      "cell_type": "markdown",
      "metadata": {
        "id": "3exfHIzC2xh_"
      },
      "source": [
        "# Что делать?\n",
        "Где есть пометка # CODE писать код\n",
        "\n",
        "[Полезный туториал](http://jalammar.github.io/illustrated-word2vec/)"
      ]
    },
    {
      "cell_type": "markdown",
      "metadata": {
        "id": "wmRf60jr2xiE"
      },
      "source": [
        "# Загружаем данные\n",
        "Они уже обработанные и токенизированные. Процесс можно посмотреть в тетрадке 1.1 Processing corpus"
      ]
    },
    {
      "cell_type": "code",
      "execution_count": 2,
      "metadata": {
        "id": "gFq74Hug2xiG"
      },
      "outputs": [],
      "source": [
        "with open('data/processed_corpus.json') as f:\n",
        "    corpus = json.load(f)"
      ]
    },
    {
      "cell_type": "code",
      "execution_count": 3,
      "metadata": {
        "colab": {
          "base_uri": "https://localhost:8080/"
        },
        "id": "HqRNkQ9r2xiH",
        "outputId": "bb952012-ea43-4e3e-8d7f-c336cbdc22ce"
      },
      "outputs": [
        {
          "output_type": "execute_result",
          "data": {
            "text/plain": [
              "100000"
            ]
          },
          "metadata": {},
          "execution_count": 3
        }
      ],
      "source": [
        "len(corpus)"
      ]
    },
    {
      "cell_type": "code",
      "execution_count": 4,
      "metadata": {
        "colab": {
          "base_uri": "https://localhost:8080/"
        },
        "id": "Xpub0XPw2xiL",
        "outputId": "4861bb8f-e162-4e6a-c01c-c0bfbd026fa6"
      },
      "outputs": [
        {
          "output_type": "stream",
          "name": "stdout",
          "text": [
            "второй UNK год окончательно разочаровать решить податься альфабанк\n",
            "вернуть денежный средство лицевой счёт либо зачесть счёт погашение кредит\n",
            "притом ситуация решиться участие течение сутки заявить\n",
            "мой ##число летний жизнь это самый неповоротливый работник банк который видеть\n",
            "везде написать вклад принимать очередь это\n"
          ]
        }
      ],
      "source": [
        "for text in corpus[:5]:\n",
        "    print(' '.join(text))"
      ]
    },
    {
      "cell_type": "markdown",
      "metadata": {
        "id": "RMP0QNag2xiM"
      },
      "source": [
        "# CBOW"
      ]
    },
    {
      "cell_type": "code",
      "execution_count": 5,
      "metadata": {
        "id": "nVyrHelf2xiO"
      },
      "outputs": [],
      "source": [
        "sample_text = corpus[1]"
      ]
    },
    {
      "cell_type": "code",
      "execution_count": 6,
      "metadata": {
        "colab": {
          "base_uri": "https://localhost:8080/",
          "height": 36
        },
        "id": "aQdKy4Cs2xiP",
        "outputId": "27fa5d45-1721-4376-e22b-aa3b4784a968"
      },
      "outputs": [
        {
          "output_type": "execute_result",
          "data": {
            "text/plain": [
              "'вернуть денежный средство лицевой счёт либо зачесть счёт погашение кредит'"
            ],
            "application/vnd.google.colaboratory.intrinsic+json": {
              "type": "string"
            }
          },
          "metadata": {},
          "execution_count": 6
        }
      ],
      "source": [
        "' '.join(sample_text)"
      ]
    },
    {
      "cell_type": "markdown",
      "metadata": {
        "id": "zBWrLoCV2xiR"
      },
      "source": [
        "# Реализуйте разделение предложения на примеры методом CBOW"
      ]
    },
    {
      "cell_type": "code",
      "execution_count": 7,
      "metadata": {
        "id": "P83a_cIL2xiS"
      },
      "outputs": [],
      "source": [
        "def cbow_split(tokens, window, pad_token='PAD'):\n",
        "\n",
        "    splits = []\n",
        "\n",
        "    tokens_with_pad = []\n",
        "    tokens_with_pad = list([pad_token] * window) + tokens + list([pad_token] * window)\n",
        "\n",
        "    for i in range(window, len(tokens_with_pad) - window):\n",
        "        context_left = tokens_with_pad[i - window:i]\n",
        "        context_right = tokens_with_pad[i + 1:i + window + 1]\n",
        "        target = tokens_with_pad[i]\n",
        "        split = (context_left, target, context_right)\n",
        "        splits.append(split)\n",
        "\n",
        "    return splits"
      ]
    },
    {
      "cell_type": "code",
      "execution_count": 8,
      "metadata": {
        "id": "Yf7nYQzg2xiV"
      },
      "outputs": [],
      "source": [
        "splits = cbow_split(sample_text, window=2)"
      ]
    },
    {
      "cell_type": "code",
      "execution_count": 9,
      "metadata": {
        "colab": {
          "base_uri": "https://localhost:8080/"
        },
        "id": "ZHC30k1w2xiW",
        "outputId": "0047b8c7-8858-4712-d070-36a0779f277e"
      },
      "outputs": [
        {
          "output_type": "stream",
          "name": "stdout",
          "text": [
            "Левый контекст: ['PAD', 'PAD']\n",
            "Центральное слово: вернуть\n",
            "Правый контекст: ['денежный', 'средство']\n",
            "\n",
            "Левый контекст: ['PAD', 'вернуть']\n",
            "Центральное слово: денежный\n",
            "Правый контекст: ['средство', 'лицевой']\n",
            "\n",
            "Левый контекст: ['вернуть', 'денежный']\n",
            "Центральное слово: средство\n",
            "Правый контекст: ['лицевой', 'счёт']\n",
            "\n",
            "Левый контекст: ['денежный', 'средство']\n",
            "Центральное слово: лицевой\n",
            "Правый контекст: ['счёт', 'либо']\n",
            "\n",
            "Левый контекст: ['средство', 'лицевой']\n",
            "Центральное слово: счёт\n",
            "Правый контекст: ['либо', 'зачесть']\n",
            "\n",
            "Левый контекст: ['лицевой', 'счёт']\n",
            "Центральное слово: либо\n",
            "Правый контекст: ['зачесть', 'счёт']\n",
            "\n",
            "Левый контекст: ['счёт', 'либо']\n",
            "Центральное слово: зачесть\n",
            "Правый контекст: ['счёт', 'погашение']\n",
            "\n",
            "Левый контекст: ['либо', 'зачесть']\n",
            "Центральное слово: счёт\n",
            "Правый контекст: ['погашение', 'кредит']\n",
            "\n",
            "Левый контекст: ['зачесть', 'счёт']\n",
            "Центральное слово: погашение\n",
            "Правый контекст: ['кредит', 'PAD']\n",
            "\n",
            "Левый контекст: ['счёт', 'погашение']\n",
            "Центральное слово: кредит\n",
            "Правый контекст: ['PAD', 'PAD']\n",
            "\n"
          ]
        }
      ],
      "source": [
        "for sample in splits:\n",
        "    print('Левый контекст:', sample[0])\n",
        "    print('Центральное слово:', sample[1])\n",
        "    print('Правый контекст:', sample[2], end='\\n\\n')"
      ]
    },
    {
      "cell_type": "code",
      "execution_count": 10,
      "metadata": {
        "colab": {
          "base_uri": "https://localhost:8080/"
        },
        "id": "NN3AKM7K2xiX",
        "outputId": "a007a4bf-e7f9-4f72-d951-c3b951b97804"
      },
      "outputs": [
        {
          "output_type": "execute_result",
          "data": {
            "text/plain": [
              "[(['PAD', 'PAD'], 'вернуть', ['денежный', 'средство']),\n",
              " (['PAD', 'вернуть'], 'денежный', ['средство', 'лицевой']),\n",
              " (['вернуть', 'денежный'], 'средство', ['лицевой', 'счёт']),\n",
              " (['денежный', 'средство'], 'лицевой', ['счёт', 'либо']),\n",
              " (['средство', 'лицевой'], 'счёт', ['либо', 'зачесть']),\n",
              " (['лицевой', 'счёт'], 'либо', ['зачесть', 'счёт']),\n",
              " (['счёт', 'либо'], 'зачесть', ['счёт', 'погашение']),\n",
              " (['либо', 'зачесть'], 'счёт', ['погашение', 'кредит']),\n",
              " (['зачесть', 'счёт'], 'погашение', ['кредит', 'PAD']),\n",
              " (['счёт', 'погашение'], 'кредит', ['PAD', 'PAD'])]"
            ]
          },
          "metadata": {},
          "execution_count": 10
        }
      ],
      "source": [
        "splits"
      ]
    },
    {
      "cell_type": "markdown",
      "metadata": {
        "id": "ntZL2daH2xiY"
      },
      "source": [
        "# Expected\n",
        "\n",
        "```python\n",
        "[(['PAD', 'PAD'], 'вопрос', ['почему', 'например']),\n",
        " (['PAD', 'вопрос'], 'почему', ['например', 'китайский']),\n",
        " (['вопрос', 'почему'], 'например', ['китайский', 'японский']),\n",
        " (['почему', 'например'], 'китайский', ['японский', 'UNK']),\n",
        " (['например', 'китайский'], 'японский', ['UNK', 'PAD']),\n",
        " (['китайский', 'японский'], 'UNK', ['PAD', 'PAD'])]\n",
        "```"
      ]
    },
    {
      "cell_type": "code",
      "execution_count": 11,
      "metadata": {
        "colab": {
          "base_uri": "https://localhost:8080/"
        },
        "id": "JV_JJGcG2xiY",
        "outputId": "d04d3836-940a-4b87-a240-af952c43c824"
      },
      "outputs": [
        {
          "output_type": "execute_result",
          "data": {
            "text/plain": [
              "[(['PAD', 'PAD', 'PAD'], 'вернуть', ['денежный', 'средство', 'лицевой']),\n",
              " (['PAD', 'PAD', 'вернуть'], 'денежный', ['средство', 'лицевой', 'счёт']),\n",
              " (['PAD', 'вернуть', 'денежный'], 'средство', ['лицевой', 'счёт', 'либо']),\n",
              " (['вернуть', 'денежный', 'средство'], 'лицевой', ['счёт', 'либо', 'зачесть']),\n",
              " (['денежный', 'средство', 'лицевой'], 'счёт', ['либо', 'зачесть', 'счёт']),\n",
              " (['средство', 'лицевой', 'счёт'], 'либо', ['зачесть', 'счёт', 'погашение']),\n",
              " (['лицевой', 'счёт', 'либо'], 'зачесть', ['счёт', 'погашение', 'кредит']),\n",
              " (['счёт', 'либо', 'зачесть'], 'счёт', ['погашение', 'кредит', 'PAD']),\n",
              " (['либо', 'зачесть', 'счёт'], 'погашение', ['кредит', 'PAD', 'PAD']),\n",
              " (['зачесть', 'счёт', 'погашение'], 'кредит', ['PAD', 'PAD', 'PAD'])]"
            ]
          },
          "metadata": {},
          "execution_count": 11
        }
      ],
      "source": [
        "cbow_split(sample_text, window=3)"
      ]
    },
    {
      "cell_type": "markdown",
      "metadata": {
        "id": "_bnkX8vw2xiZ"
      },
      "source": [
        "# Expected\n",
        "\n",
        "```python\n",
        "[(['PAD', 'PAD', 'PAD'], 'вопрос', ['почему', 'например', 'китайский']),\n",
        " (['PAD', 'PAD', 'вопрос'], 'почему', ['например', 'китайский', 'японский']),\n",
        " (['PAD', 'вопрос', 'почему'], 'например', ['китайский', 'японский', 'UNK']),\n",
        " (['вопрос', 'почему', 'например'], 'китайский', ['японский', 'UNK', 'PAD']),\n",
        " (['почему', 'например', 'китайский'], 'японский', ['UNK', 'PAD', 'PAD']),\n",
        " (['например', 'китайский', 'японский'], 'UNK', ['PAD', 'PAD', 'PAD'])]\n",
        "```"
      ]
    },
    {
      "cell_type": "markdown",
      "metadata": {
        "id": "7AezFRGE2xia"
      },
      "source": [
        "# Skipgram"
      ]
    },
    {
      "cell_type": "code",
      "execution_count": 12,
      "metadata": {
        "colab": {
          "base_uri": "https://localhost:8080/",
          "height": 36
        },
        "id": "arPWH2882xia",
        "outputId": "cfa1e828-b7da-486c-c005-30234c1178f1"
      },
      "outputs": [
        {
          "output_type": "execute_result",
          "data": {
            "text/plain": [
              "'вернуть денежный средство лицевой счёт либо зачесть счёт погашение кредит'"
            ],
            "application/vnd.google.colaboratory.intrinsic+json": {
              "type": "string"
            }
          },
          "metadata": {},
          "execution_count": 12
        }
      ],
      "source": [
        "' '.join(sample_text)"
      ]
    },
    {
      "cell_type": "markdown",
      "metadata": {
        "id": "U6JAsa982xib"
      },
      "source": [
        "# Реализуйте разделение предложения на примеры методом Skipgram"
      ]
    },
    {
      "cell_type": "code",
      "execution_count": 13,
      "metadata": {
        "id": "Cdz6jSI62xib"
      },
      "outputs": [],
      "source": [
        "def skipgram_split(tokens, window):\n",
        "\n",
        "    splits = []\n",
        "\n",
        "    for word in enumerate(tokens):\n",
        "        for i in range(window):\n",
        "            if (word[0] - i) > 0:\n",
        "                context_left = tokens[word[0] - i - 1]\n",
        "                splits.append((context_left, word[1]))\n",
        "            try:\n",
        "                context_right = tokens[word[0] + i + 1]\n",
        "                splits.append((context_right, word[1]))\n",
        "            except:\n",
        "                pass\n",
        "\n",
        "    return splits"
      ]
    },
    {
      "cell_type": "code",
      "execution_count": 14,
      "metadata": {
        "id": "H55MoR202xib"
      },
      "outputs": [],
      "source": [
        "splits = skipgram_split(sample_text, window=2)"
      ]
    },
    {
      "cell_type": "code",
      "execution_count": 15,
      "metadata": {
        "colab": {
          "base_uri": "https://localhost:8080/"
        },
        "id": "-QYJYfEl2xic",
        "outputId": "733ffa68-b154-4c0d-ee63-1b084e2bbc8c"
      },
      "outputs": [
        {
          "output_type": "stream",
          "name": "stdout",
          "text": [
            "Контекст: денежный\n",
            "Центральное слово: вернуть\n",
            "\n",
            "Контекст: средство\n",
            "Центральное слово: вернуть\n",
            "\n",
            "Контекст: вернуть\n",
            "Центральное слово: денежный\n",
            "\n",
            "Контекст: средство\n",
            "Центральное слово: денежный\n",
            "\n",
            "Контекст: лицевой\n",
            "Центральное слово: денежный\n",
            "\n",
            "Контекст: денежный\n",
            "Центральное слово: средство\n",
            "\n",
            "Контекст: лицевой\n",
            "Центральное слово: средство\n",
            "\n",
            "Контекст: вернуть\n",
            "Центральное слово: средство\n",
            "\n",
            "Контекст: счёт\n",
            "Центральное слово: средство\n",
            "\n",
            "Контекст: средство\n",
            "Центральное слово: лицевой\n",
            "\n",
            "Контекст: счёт\n",
            "Центральное слово: лицевой\n",
            "\n",
            "Контекст: денежный\n",
            "Центральное слово: лицевой\n",
            "\n",
            "Контекст: либо\n",
            "Центральное слово: лицевой\n",
            "\n",
            "Контекст: лицевой\n",
            "Центральное слово: счёт\n",
            "\n",
            "Контекст: либо\n",
            "Центральное слово: счёт\n",
            "\n",
            "Контекст: средство\n",
            "Центральное слово: счёт\n",
            "\n",
            "Контекст: зачесть\n",
            "Центральное слово: счёт\n",
            "\n",
            "Контекст: счёт\n",
            "Центральное слово: либо\n",
            "\n",
            "Контекст: зачесть\n",
            "Центральное слово: либо\n",
            "\n",
            "Контекст: лицевой\n",
            "Центральное слово: либо\n",
            "\n",
            "Контекст: счёт\n",
            "Центральное слово: либо\n",
            "\n",
            "Контекст: либо\n",
            "Центральное слово: зачесть\n",
            "\n",
            "Контекст: счёт\n",
            "Центральное слово: зачесть\n",
            "\n",
            "Контекст: счёт\n",
            "Центральное слово: зачесть\n",
            "\n",
            "Контекст: погашение\n",
            "Центральное слово: зачесть\n",
            "\n",
            "Контекст: зачесть\n",
            "Центральное слово: счёт\n",
            "\n",
            "Контекст: погашение\n",
            "Центральное слово: счёт\n",
            "\n",
            "Контекст: либо\n",
            "Центральное слово: счёт\n",
            "\n",
            "Контекст: кредит\n",
            "Центральное слово: счёт\n",
            "\n",
            "Контекст: счёт\n",
            "Центральное слово: погашение\n",
            "\n",
            "Контекст: кредит\n",
            "Центральное слово: погашение\n",
            "\n",
            "Контекст: зачесть\n",
            "Центральное слово: погашение\n",
            "\n",
            "Контекст: погашение\n",
            "Центральное слово: кредит\n",
            "\n",
            "Контекст: счёт\n",
            "Центральное слово: кредит\n",
            "\n"
          ]
        }
      ],
      "source": [
        "for sample in splits:\n",
        "    print('Контекст:', sample[0])\n",
        "    print('Центральное слово:', sample[1], end='\\n\\n')"
      ]
    },
    {
      "cell_type": "code",
      "execution_count": 16,
      "metadata": {
        "colab": {
          "base_uri": "https://localhost:8080/"
        },
        "id": "f5ub1cSJ2xid",
        "outputId": "70e088cc-c8af-48e3-92e6-41452ffd3b74"
      },
      "outputs": [
        {
          "output_type": "execute_result",
          "data": {
            "text/plain": [
              "[('денежный', 'вернуть'),\n",
              " ('средство', 'вернуть'),\n",
              " ('вернуть', 'денежный'),\n",
              " ('средство', 'денежный'),\n",
              " ('лицевой', 'денежный'),\n",
              " ('денежный', 'средство'),\n",
              " ('лицевой', 'средство'),\n",
              " ('вернуть', 'средство'),\n",
              " ('счёт', 'средство'),\n",
              " ('средство', 'лицевой'),\n",
              " ('счёт', 'лицевой'),\n",
              " ('денежный', 'лицевой'),\n",
              " ('либо', 'лицевой'),\n",
              " ('лицевой', 'счёт'),\n",
              " ('либо', 'счёт'),\n",
              " ('средство', 'счёт'),\n",
              " ('зачесть', 'счёт'),\n",
              " ('счёт', 'либо'),\n",
              " ('зачесть', 'либо'),\n",
              " ('лицевой', 'либо'),\n",
              " ('счёт', 'либо'),\n",
              " ('либо', 'зачесть'),\n",
              " ('счёт', 'зачесть'),\n",
              " ('счёт', 'зачесть'),\n",
              " ('погашение', 'зачесть'),\n",
              " ('зачесть', 'счёт'),\n",
              " ('погашение', 'счёт'),\n",
              " ('либо', 'счёт'),\n",
              " ('кредит', 'счёт'),\n",
              " ('счёт', 'погашение'),\n",
              " ('кредит', 'погашение'),\n",
              " ('зачесть', 'погашение'),\n",
              " ('погашение', 'кредит'),\n",
              " ('счёт', 'кредит')]"
            ]
          },
          "metadata": {},
          "execution_count": 16
        }
      ],
      "source": [
        "skipgram_split(sample_text, window=2)"
      ]
    },
    {
      "cell_type": "markdown",
      "metadata": {
        "id": "tnkyfYyF2xie"
      },
      "source": [
        "# Expected\n",
        "\n",
        "```python\n",
        "[('почему', 'вопрос'),\n",
        " ('например', 'вопрос'),\n",
        " ('вопрос', 'почему'),\n",
        " ('например', 'почему'),\n",
        " ('китайский', 'почему'),\n",
        " ('вопрос', 'например'),\n",
        " ('почему', 'например'),\n",
        " ('китайский', 'например'),\n",
        " ('японский', 'например'),\n",
        " ('почему', 'китайский'),\n",
        " ('например', 'китайский'),\n",
        " ('японский', 'китайский'),\n",
        " ('UNK', 'китайский'),\n",
        " ('например', 'японский'),\n",
        " ('китайский', 'японский'),\n",
        " ('UNK', 'японский'),\n",
        " ('китайский', 'UNK'),\n",
        " ('японский', 'UNK')]\n",
        "```"
      ]
    },
    {
      "cell_type": "code",
      "execution_count": 17,
      "metadata": {
        "colab": {
          "base_uri": "https://localhost:8080/"
        },
        "id": "X7EgQacj2xie",
        "outputId": "9260a99f-e325-4573-a0ef-7fccd38ef9f4"
      },
      "outputs": [
        {
          "output_type": "execute_result",
          "data": {
            "text/plain": [
              "[('денежный', 'вернуть'),\n",
              " ('средство', 'вернуть'),\n",
              " ('лицевой', 'вернуть'),\n",
              " ('вернуть', 'денежный'),\n",
              " ('средство', 'денежный'),\n",
              " ('лицевой', 'денежный'),\n",
              " ('счёт', 'денежный'),\n",
              " ('денежный', 'средство'),\n",
              " ('лицевой', 'средство'),\n",
              " ('вернуть', 'средство'),\n",
              " ('счёт', 'средство'),\n",
              " ('либо', 'средство'),\n",
              " ('средство', 'лицевой'),\n",
              " ('счёт', 'лицевой'),\n",
              " ('денежный', 'лицевой'),\n",
              " ('либо', 'лицевой'),\n",
              " ('вернуть', 'лицевой'),\n",
              " ('зачесть', 'лицевой'),\n",
              " ('лицевой', 'счёт'),\n",
              " ('либо', 'счёт'),\n",
              " ('средство', 'счёт'),\n",
              " ('зачесть', 'счёт'),\n",
              " ('денежный', 'счёт'),\n",
              " ('счёт', 'счёт'),\n",
              " ('счёт', 'либо'),\n",
              " ('зачесть', 'либо'),\n",
              " ('лицевой', 'либо'),\n",
              " ('счёт', 'либо'),\n",
              " ('средство', 'либо'),\n",
              " ('погашение', 'либо'),\n",
              " ('либо', 'зачесть'),\n",
              " ('счёт', 'зачесть'),\n",
              " ('счёт', 'зачесть'),\n",
              " ('погашение', 'зачесть'),\n",
              " ('лицевой', 'зачесть'),\n",
              " ('кредит', 'зачесть'),\n",
              " ('зачесть', 'счёт'),\n",
              " ('погашение', 'счёт'),\n",
              " ('либо', 'счёт'),\n",
              " ('кредит', 'счёт'),\n",
              " ('счёт', 'счёт'),\n",
              " ('счёт', 'погашение'),\n",
              " ('кредит', 'погашение'),\n",
              " ('зачесть', 'погашение'),\n",
              " ('либо', 'погашение'),\n",
              " ('погашение', 'кредит'),\n",
              " ('счёт', 'кредит'),\n",
              " ('зачесть', 'кредит')]"
            ]
          },
          "metadata": {},
          "execution_count": 17
        }
      ],
      "source": [
        "skipgram_split(sample_text, window=3)"
      ]
    },
    {
      "cell_type": "markdown",
      "metadata": {
        "id": "ujsWBBbu2xif"
      },
      "source": [
        "# Expected\n",
        "\n",
        "```python\n",
        "[('почему', 'вопрос'),\n",
        " ('например', 'вопрос'),\n",
        " ('китайский', 'вопрос'),\n",
        " ('вопрос', 'почему'),\n",
        " ('например', 'почему'),\n",
        " ('китайский', 'почему'),\n",
        " ('японский', 'почему'),\n",
        " ('вопрос', 'например'),\n",
        " ('почему', 'например'),\n",
        " ('китайский', 'например'),\n",
        " ('японский', 'например'),\n",
        " ('UNK', 'например'),\n",
        " ('вопрос', 'китайский'),\n",
        " ('почему', 'китайский'),\n",
        " ('например', 'китайский'),\n",
        " ('японский', 'китайский'),\n",
        " ('UNK', 'китайский'),\n",
        " ('почему', 'японский'),\n",
        " ('например', 'японский'),\n",
        " ('китайский', 'японский'),\n",
        " ('UNK', 'японский'),\n",
        " ('например', 'UNK'),\n",
        " ('китайский', 'UNK'),\n",
        " ('японский', 'UNK')]\n",
        "```"
      ]
    },
    {
      "cell_type": "code",
      "execution_count": 18,
      "metadata": {
        "id": "GvvRUnsc2xif"
      },
      "outputs": [],
      "source": [
        "word2index = {}\n",
        "\n",
        "for text in corpus:\n",
        "    for token in text:\n",
        "        if token not in word2index:\n",
        "            word2index[token] = len(word2index)"
      ]
    },
    {
      "cell_type": "code",
      "execution_count": 19,
      "metadata": {
        "colab": {
          "base_uri": "https://localhost:8080/"
        },
        "id": "c5jDZZuT2xig",
        "outputId": "9af1f5c1-4543-41bb-f10a-b9a9751feab1"
      },
      "outputs": [
        {
          "output_type": "execute_result",
          "data": {
            "text/plain": [
              "13076"
            ]
          },
          "metadata": {},
          "execution_count": 19
        }
      ],
      "source": [
        "len(word2index)"
      ]
    },
    {
      "cell_type": "code",
      "execution_count": 20,
      "metadata": {
        "colab": {
          "base_uri": "https://localhost:8080/"
        },
        "id": "niSsRyIw2xig",
        "outputId": "339a1c9d-16b2-4296-c8b1-e953644eb868"
      },
      "outputs": [
        {
          "output_type": "execute_result",
          "data": {
            "text/plain": [
              "1"
            ]
          },
          "metadata": {},
          "execution_count": 20
        }
      ],
      "source": [
        "word2index['UNK']"
      ]
    },
    {
      "cell_type": "code",
      "execution_count": 21,
      "metadata": {
        "colab": {
          "base_uri": "https://localhost:8080/"
        },
        "id": "UaNh2_tc2xih",
        "outputId": "bb3149cf-574f-4afd-b3c8-f27e5ea79d61"
      },
      "outputs": [
        {
          "output_type": "execute_result",
          "data": {
            "text/plain": [
              "[1282, 8436, 1]"
            ]
          },
          "metadata": {},
          "execution_count": 21
        }
      ],
      "source": [
        "[word2index[tok] if tok in word2index else word2index['UNK'] for tok in 'мама мыть рама'.split()]"
      ]
    },
    {
      "cell_type": "markdown",
      "metadata": {
        "id": "p-AxkCw72xih"
      },
      "source": [
        "# Torch Dataset\n",
        "В торче есть очень удобная читалка данных"
      ]
    },
    {
      "cell_type": "code",
      "execution_count": 22,
      "metadata": {
        "id": "NdEMZ7Of2xii"
      },
      "outputs": [],
      "source": [
        "from torch.utils.data import Dataset, DataLoader"
      ]
    },
    {
      "cell_type": "code",
      "execution_count": 23,
      "metadata": {
        "id": "-e_9zR-w2xii"
      },
      "outputs": [],
      "source": [
        "# игрушечный датасет\n",
        "# 121535 примера, 4 фичи, 3 класса\n",
        "some_data_x = np.random.rand(121535, 4)\n",
        "some_data_y = np.random.randint(3, size=(121535,))"
      ]
    },
    {
      "cell_type": "code",
      "execution_count": 24,
      "metadata": {
        "colab": {
          "base_uri": "https://localhost:8080/"
        },
        "id": "aYOXy02k2xii",
        "outputId": "0f063d81-6bc9-4140-83b9-148d31567fc5"
      },
      "outputs": [
        {
          "output_type": "execute_result",
          "data": {
            "text/plain": [
              "array([[0.50694583, 0.03738731, 0.71074715, 0.93619458],\n",
              "       [0.70827956, 0.82725049, 0.01387124, 0.67130487],\n",
              "       [0.60019151, 0.33042164, 0.55216731, 0.82480669],\n",
              "       [0.2849053 , 0.1843735 , 0.08635316, 0.40144447],\n",
              "       [0.58205034, 0.91686433, 0.50137984, 0.8172854 ],\n",
              "       [0.27826489, 0.42395079, 0.3044289 , 0.31892184],\n",
              "       [0.67184928, 0.75538708, 0.24458249, 0.71758789],\n",
              "       [0.05491426, 0.95301289, 0.1889892 , 0.39018521],\n",
              "       [0.51506475, 0.35564328, 0.65323387, 0.8638846 ],\n",
              "       [0.53867807, 0.11766821, 0.86890382, 0.46659506]])"
            ]
          },
          "metadata": {},
          "execution_count": 24
        }
      ],
      "source": [
        "# соверешенно игрушечный, просто цифры\n",
        "some_data_x[:10]"
      ]
    },
    {
      "cell_type": "code",
      "execution_count": 25,
      "metadata": {
        "colab": {
          "base_uri": "https://localhost:8080/"
        },
        "id": "rZEdx-mq2xij",
        "outputId": "f99eb63d-33fd-4805-bb98-a4c82e40e825"
      },
      "outputs": [
        {
          "output_type": "execute_result",
          "data": {
            "text/plain": [
              "array([0, 0, 0, ..., 1, 1, 1])"
            ]
          },
          "metadata": {},
          "execution_count": 25
        }
      ],
      "source": [
        "some_data_y"
      ]
    },
    {
      "cell_type": "code",
      "execution_count": 26,
      "metadata": {
        "id": "ggZAV2yS2xij"
      },
      "outputs": [],
      "source": [
        "class ToyDataset(Dataset):\n",
        "\n",
        "    def __init__(self, data_x, data_y):\n",
        "\n",
        "        super().__init__()\n",
        "\n",
        "        self.data_x = data_x\n",
        "        self.data_y = data_y\n",
        "\n",
        "    def __len__(self):\n",
        "\n",
        "        # Нужно обязательно определить эту функцию\n",
        "        # Должна возвращать размер датасета\n",
        "\n",
        "        return len(self.data_x)\n",
        "\n",
        "    def __getitem__(self, idx):\n",
        "\n",
        "        # Еще нужно определить этот метод\n",
        "        # То есть как мы будем доставать наши данные по индексу\n",
        "\n",
        "        return self.data_x[idx], self.data_y[idx]"
      ]
    },
    {
      "cell_type": "code",
      "execution_count": 27,
      "metadata": {
        "id": "eqGgkMiN2xik"
      },
      "outputs": [],
      "source": [
        "some_dataset = ToyDataset(some_data_x, some_data_y)"
      ]
    },
    {
      "cell_type": "code",
      "execution_count": 28,
      "metadata": {
        "colab": {
          "base_uri": "https://localhost:8080/"
        },
        "id": "gLQVu1MF2xik",
        "outputId": "19b0c66e-9f01-4f4c-84b2-d0f8e53c08b3"
      },
      "outputs": [
        {
          "output_type": "execute_result",
          "data": {
            "text/plain": [
              "((array([0.27826489, 0.42395079, 0.3044289 , 0.31892184]), 2),\n",
              " (array([0.56635707, 0.18846489, 0.40037141, 0.77105317]), 0))"
            ]
          },
          "metadata": {},
          "execution_count": 28
        }
      ],
      "source": [
        "some_dataset[5], some_dataset[467]"
      ]
    },
    {
      "cell_type": "code",
      "execution_count": 29,
      "metadata": {
        "id": "-C_mHj9d2xi9"
      },
      "outputs": [],
      "source": [
        "some_loader = DataLoader(some_dataset, batch_size=16, shuffle=True)"
      ]
    },
    {
      "cell_type": "code",
      "execution_count": 30,
      "metadata": {
        "colab": {
          "base_uri": "https://localhost:8080/"
        },
        "id": "hU5JNEow2xi-",
        "outputId": "b9d9c9a1-7462-4a65-e27c-61b9683c8043"
      },
      "outputs": [
        {
          "output_type": "execute_result",
          "data": {
            "text/plain": [
              "(16,\n",
              " tensor([[0.4998, 0.8928, 0.5761, 0.8170],\n",
              "         [0.8550, 0.7660, 0.0687, 0.6787],\n",
              "         [0.9094, 0.5413, 0.1768, 0.6698],\n",
              "         [0.6917, 0.6175, 0.4565, 0.8831],\n",
              "         [0.5317, 0.5321, 0.3833, 0.8118],\n",
              "         [0.9119, 0.5823, 0.0070, 0.2693],\n",
              "         [0.7097, 0.8886, 0.9576, 0.8382],\n",
              "         [0.9692, 0.3185, 0.4818, 0.4607],\n",
              "         [0.2965, 0.8947, 0.6013, 0.3197],\n",
              "         [0.5687, 0.2419, 0.9849, 0.5536],\n",
              "         [0.4914, 0.0106, 0.1444, 0.8641],\n",
              "         [0.0413, 0.8526, 0.4137, 0.5614],\n",
              "         [0.9991, 0.0403, 0.8227, 0.4120],\n",
              "         [0.4382, 0.8938, 0.3019, 0.4461],\n",
              "         [0.9993, 0.8692, 0.2379, 0.8226],\n",
              "         [0.9218, 0.4915, 0.5783, 0.4214]], dtype=torch.float64))"
            ]
          },
          "metadata": {},
          "execution_count": 30
        }
      ],
      "source": [
        "for x, y in some_loader:\n",
        "    break\n",
        "\n",
        "len(x), x"
      ]
    },
    {
      "cell_type": "code",
      "execution_count": 31,
      "metadata": {
        "colab": {
          "base_uri": "https://localhost:8080/"
        },
        "id": "JUzoJDVd2xi_",
        "outputId": "b6f9c75a-49f2-4103-bdbd-77b5b4b6ddf5"
      },
      "outputs": [
        {
          "output_type": "execute_result",
          "data": {
            "text/plain": [
              "15"
            ]
          },
          "metadata": {},
          "execution_count": 31
        }
      ],
      "source": [
        "for x, y in some_loader:\n",
        "    pass\n",
        "\n",
        "len(x)"
      ]
    },
    {
      "cell_type": "code",
      "execution_count": 32,
      "metadata": {
        "colab": {
          "base_uri": "https://localhost:8080/"
        },
        "id": "dNaepWTK2xi_",
        "outputId": "93b0f511-24d5-4a77-95e5-cc425dfbee58"
      },
      "outputs": [
        {
          "output_type": "execute_result",
          "data": {
            "text/plain": [
              "15"
            ]
          },
          "metadata": {},
          "execution_count": 32
        }
      ],
      "source": [
        "# почему 13?\n",
        "# потому что количество наших данных нацело не делится на 16\n",
        "# и поэтому последний батч меньше 16-ти\n",
        "len(some_dataset) % 16"
      ]
    },
    {
      "cell_type": "markdown",
      "metadata": {
        "id": "t-hPG9ds2xjA"
      },
      "source": [
        "# А зачем?"
      ]
    },
    {
      "cell_type": "code",
      "execution_count": 33,
      "metadata": {
        "id": "Az4pscFj2xjA"
      },
      "outputs": [],
      "source": [
        "class ToyDataset(Dataset):\n",
        "\n",
        "    def __init__(self, data_x, data_y):\n",
        "\n",
        "        super().__init__()\n",
        "\n",
        "        self.data_x = data_x\n",
        "        self.data_y = data_y\n",
        "\n",
        "    def __len__(self):\n",
        "\n",
        "        # Нужно обязательно определить эту функцию\n",
        "        # Должна возвращать размер датасета\n",
        "\n",
        "        return len(self.data_x)\n",
        "\n",
        "    @staticmethod\n",
        "    def add_pow_features(x, n=2):\n",
        "\n",
        "        return np.concatenate([x, x ** n])\n",
        "\n",
        "    @staticmethod\n",
        "    def add_log_features(x):\n",
        "\n",
        "        return np.concatenate([x, np.log(x)])\n",
        "\n",
        "    def __getitem__(self, idx):\n",
        "\n",
        "        # Еще нужно определить этот метод\n",
        "        # То есть как мы будем доставать наши данные по индексу\n",
        "\n",
        "        x = self.data_x[idx]\n",
        "\n",
        "        # внутри датасета мы можем делать все что угодно с нашими данными\n",
        "        # например выше определим функции, которые добавляют степенные фичи\n",
        "        x = self.add_pow_features(x, n=2)\n",
        "        x = self.add_pow_features(x, n=3)\n",
        "        # и еще возьмем логарифмические фичи\n",
        "        x = self.add_log_features(x)\n",
        "\n",
        "        y = self.data_y[idx]\n",
        "\n",
        "        return x, y"
      ]
    },
    {
      "cell_type": "code",
      "execution_count": 34,
      "metadata": {
        "id": "0Y6VouQj2xjB"
      },
      "outputs": [],
      "source": [
        "toy_dataset = ToyDataset(some_data_x, some_data_y)"
      ]
    },
    {
      "cell_type": "code",
      "execution_count": 35,
      "metadata": {
        "id": "FqXwIDp_2xjB"
      },
      "outputs": [],
      "source": [
        "toy_loader = DataLoader(dataset=toy_dataset, batch_size=128)"
      ]
    },
    {
      "cell_type": "code",
      "execution_count": 36,
      "metadata": {
        "id": "jAkizIvq2xjC"
      },
      "outputs": [],
      "source": [
        "for x, y in toy_loader:\n",
        "    break"
      ]
    },
    {
      "cell_type": "code",
      "execution_count": 37,
      "metadata": {
        "colab": {
          "base_uri": "https://localhost:8080/"
        },
        "id": "2kjEKpjf2xjC",
        "outputId": "61dbb9ce-5dfd-421e-bced-d7a8f4d58e0b"
      },
      "outputs": [
        {
          "output_type": "execute_result",
          "data": {
            "text/plain": [
              "torch.Size([128, 32])"
            ]
          },
          "metadata": {},
          "execution_count": 37
        }
      ],
      "source": [
        "x.shape"
      ]
    },
    {
      "cell_type": "code",
      "execution_count": 38,
      "metadata": {
        "colab": {
          "base_uri": "https://localhost:8080/"
        },
        "id": "VEvLbHyY2xjD",
        "outputId": "dba5645e-d259-4c6a-d719-230f113c39ab"
      },
      "outputs": [
        {
          "output_type": "execute_result",
          "data": {
            "text/plain": [
              "tensor([[ 5.0695e-01,  3.7387e-02,  7.1075e-01,  ..., -1.9719e+01,\n",
              "         -2.0486e+00, -3.9559e-01],\n",
              "        [ 7.0828e-01,  8.2725e-01,  1.3871e-02,  ..., -1.1379e+00,\n",
              "         -2.5668e+01, -2.3912e+00],\n",
              "        [ 6.0019e-01,  3.3042e-01,  5.5217e-01,  ..., -6.6443e+00,\n",
              "         -3.5634e+00, -1.1556e+00],\n",
              "        ...,\n",
              "        [ 2.3765e-01,  4.8929e-01,  2.3804e-01,  ..., -4.2889e+00,\n",
              "         -8.6118e+00, -2.4536e+01],\n",
              "        [ 5.1673e-01,  2.8336e-01,  1.8384e-01,  ..., -7.5662e+00,\n",
              "         -1.0162e+01, -1.6494e+00],\n",
              "        [ 7.6045e-01,  1.9526e-02,  2.3542e-01,  ..., -2.3616e+01,\n",
              "         -8.6784e+00, -6.2737e+00]], dtype=torch.float64)"
            ]
          },
          "metadata": {},
          "execution_count": 38
        }
      ],
      "source": [
        "# заметим, что мы сразу получаем торчовый формат данных\n",
        "x"
      ]
    },
    {
      "cell_type": "code",
      "execution_count": 39,
      "metadata": {
        "colab": {
          "base_uri": "https://localhost:8080/"
        },
        "id": "M4KJCHzD2xjD",
        "outputId": "af24fd22-7cc7-479f-88e5-c449de3c67d3"
      },
      "outputs": [
        {
          "output_type": "execute_result",
          "data": {
            "text/plain": [
              "tensor([0, 0, 0, 0, 1, 2, 2, 1, 1, 2, 0, 1, 2, 1, 1, 1, 0, 0, 0, 2, 2, 0, 1, 1,\n",
              "        2, 1, 1, 1, 2, 1, 0, 2, 0, 1, 0, 2, 1, 0, 1, 0, 0, 0, 0, 0, 2, 1, 2, 1,\n",
              "        0, 0, 2, 0, 0, 1, 2, 0, 2, 2, 1, 2, 1, 1, 1, 2, 1, 2, 2, 0, 1, 2, 2, 2,\n",
              "        1, 0, 1, 0, 1, 2, 2, 2, 2, 0, 1, 2, 0, 0, 0, 0, 0, 2, 2, 0, 2, 2, 1, 0,\n",
              "        1, 2, 0, 2, 0, 1, 1, 2, 0, 0, 0, 0, 1, 2, 1, 1, 0, 2, 2, 0, 2, 0, 1, 1,\n",
              "        2, 1, 0, 1, 0, 1, 2, 2])"
            ]
          },
          "metadata": {},
          "execution_count": 39
        }
      ],
      "source": [
        "y"
      ]
    },
    {
      "cell_type": "markdown",
      "metadata": {
        "id": "pLBmoZ6c2xjE"
      },
      "source": [
        "# Если вы ничего здесь не понимаете, то вернитесь в конец первой домашки, там все объясняется"
      ]
    },
    {
      "cell_type": "code",
      "execution_count": 40,
      "metadata": {
        "id": "7SZqlyHq2xjE"
      },
      "outputs": [],
      "source": [
        "model = torch.nn.Sequential(torch.nn.Linear(32, 16),\n",
        "                            torch.nn.ReLU(),\n",
        "                            torch.nn.Linear(16, 8),\n",
        "                            torch.nn.ReLU(),\n",
        "                            torch.nn.Linear(8, 3))\n",
        "\n",
        "criterion = torch.nn.CrossEntropyLoss()"
      ]
    },
    {
      "cell_type": "code",
      "execution_count": 41,
      "metadata": {
        "colab": {
          "base_uri": "https://localhost:8080/"
        },
        "id": "Ve82R35I2xjF",
        "outputId": "77091fd6-24d7-40b0-bc4c-96f1ea0d13bd"
      },
      "outputs": [
        {
          "output_type": "execute_result",
          "data": {
            "text/plain": [
              "1.1155580282211304"
            ]
          },
          "metadata": {},
          "execution_count": 41
        }
      ],
      "source": [
        "with torch.no_grad():\n",
        "\n",
        "    prediction = model(x.float())\n",
        "\n",
        "    loss = criterion(prediction, y)\n",
        "\n",
        "loss.item()"
      ]
    },
    {
      "cell_type": "markdown",
      "metadata": {
        "id": "F9RzSW5P2xjF"
      },
      "source": [
        "# Боевые датасеты"
      ]
    },
    {
      "cell_type": "code",
      "execution_count": 42,
      "metadata": {
        "id": "ViiFegqe2xjG"
      },
      "outputs": [],
      "source": [
        "class CBOWDataset(Dataset):\n",
        "\n",
        "    def __init__(self,\n",
        "                 corpus,\n",
        "                 word2index,\n",
        "                 window=2,\n",
        "                 unk_token='UNK',\n",
        "                 pad_token='PAD',\n",
        "                 collect_verbose=True):\n",
        "\n",
        "        self.corpus = corpus\n",
        "        self.word2index = word2index\n",
        "        self.index2word = {value: key for key, value in self.word2index.items()}\n",
        "        self.window = window\n",
        "\n",
        "        self.unk_token = unk_token\n",
        "        self.unk_index = self.word2index[self.unk_token]\n",
        "\n",
        "        self.pad_token = pad_token\n",
        "        self.pad_index = len(self.word2index)\n",
        "\n",
        "        self.collect_verbose = collect_verbose\n",
        "\n",
        "        self.data = []\n",
        "\n",
        "        self.collect_data()\n",
        "\n",
        "    def __len__(self):\n",
        "\n",
        "        return len(self.data)\n",
        "\n",
        "    def _split_function(self, tokenized_text):\n",
        "\n",
        "        splits = []\n",
        "\n",
        "        for n in range(len(tokenized_text)):\n",
        "            left_context = tokenized_text[np.maximum(n - self.window, 0):n]\n",
        "            left_context = ([self.pad_index] * (self.window - len(left_context))) + left_context\n",
        "\n",
        "            central_word = tokenized_text[n]\n",
        "\n",
        "            right_context = tokenized_text[n + 1:n + self.window + 1]\n",
        "            right_context = right_context + ([self.pad_index] * (self.window - len(right_context)))\n",
        "\n",
        "            splits.append((left_context + right_context, central_word))\n",
        "\n",
        "        return splits\n",
        "\n",
        "    def indexing(self, tokenized_text):\n",
        "\n",
        "        return [self.word2index[token] if token in self.word2index else self.unk_index for token in tokenized_text]\n",
        "\n",
        "    def collect_data(self):\n",
        "\n",
        "        corpus = tqdm(self.corpus, disable=not self.collect_verbose)\n",
        "\n",
        "        for tokenized_text in corpus:\n",
        "            indexed_text = self.indexing(tokenized_text)\n",
        "            cbow_examples = self._split_function(indexed_text)\n",
        "\n",
        "            self.data.extend(cbow_examples)\n",
        "\n",
        "    def __getitem__(self, idx):\n",
        "\n",
        "        context, central_word = self.data[idx]\n",
        "\n",
        "        context = torch.Tensor(context).long()\n",
        "\n",
        "        return context, central_word"
      ]
    },
    {
      "cell_type": "markdown",
      "metadata": {
        "id": "P18wr2EE2xjH"
      },
      "source": [
        "# Мы будем учить модель Skipgram\n",
        "Реализуйте читалку данных"
      ]
    },
    {
      "cell_type": "code",
      "execution_count": 43,
      "metadata": {
        "id": "Opa_eGVX2xjH"
      },
      "outputs": [],
      "source": [
        "class SkipgramDataset(Dataset):\n",
        "\n",
        "    def __init__(self,\n",
        "                 corpus,\n",
        "                 word2index,\n",
        "                 window=2,\n",
        "                 unk_token='UNK',\n",
        "                 collect_verbose=True):\n",
        "\n",
        "        self.corpus = corpus\n",
        "        self.word2index = word2index\n",
        "        self.index2word = {value: key for key, value in self.word2index.items()}\n",
        "        self.window = window\n",
        "\n",
        "        self.unk_token = unk_token\n",
        "        self.unk_index = self.word2index[self.unk_token]\n",
        "\n",
        "        self.collect_verbose = collect_verbose\n",
        "\n",
        "        self.data = []\n",
        "\n",
        "        self.collect_data()\n",
        "\n",
        "    def __len__(self):\n",
        "\n",
        "        return len(self.data)\n",
        "\n",
        "    def _split_function(self, tokenized_text):\n",
        "\n",
        "        splits = []\n",
        "\n",
        "        for word in enumerate(tokenized_text):\n",
        "            for i in range(self.window):\n",
        "                if (word[0] - i) > 0:\n",
        "                    context_left = tokenized_text[word[0] - i - 1]\n",
        "                    splits.append((context_left, word[1]))\n",
        "                try:\n",
        "                    context_right = tokenized_text[word[0] + i + 1]\n",
        "                    splits.append((context_right, word[1]))\n",
        "                except:\n",
        "                    pass\n",
        "\n",
        "        return splits\n",
        "\n",
        "    def indexing(self, tokenized_text):\n",
        "\n",
        "        return [self.word2index[token] if token in self.word2index else self.unk_index for token in tokenized_text]\n",
        "\n",
        "    def collect_data(self):\n",
        "\n",
        "        corpus = tqdm(self.corpus, disable=not self.collect_verbose)\n",
        "\n",
        "        for tokenized_text in corpus:\n",
        "            indexed_text = self.indexing(tokenized_text)\n",
        "            skipgram_examples = self._split_function(indexed_text)\n",
        "\n",
        "            self.data.extend(skipgram_examples)\n",
        "\n",
        "    def __getitem__(self, idx):\n",
        "\n",
        "        context, central_word = self.data[idx]\n",
        "\n",
        "        return context, central_word"
      ]
    },
    {
      "cell_type": "code",
      "execution_count": null,
      "metadata": {
        "id": "Lh-ZXhI82xjI"
      },
      "outputs": [],
      "source": [
        "# можете положить SkipgramDataset в отдельный файлик, например word2vec_utils и относительным импортом достать его\n",
        "#from .word2vec_utils import SkipgramDataset"
      ]
    },
    {
      "cell_type": "code",
      "execution_count": 44,
      "metadata": {
        "scrolled": true,
        "colab": {
          "base_uri": "https://localhost:8080/"
        },
        "id": "YOjIKWBc2xjI",
        "outputId": "194edae9-7086-4250-cb83-b4c7fa8d1946"
      },
      "outputs": [
        {
          "output_type": "stream",
          "name": "stderr",
          "text": [
            "100%|██████████| 100000/100000 [00:01<00:00, 60767.02it/s]\n"
          ]
        }
      ],
      "source": [
        "dataset = SkipgramDataset(corpus, word2index)"
      ]
    },
    {
      "cell_type": "code",
      "execution_count": 45,
      "metadata": {
        "id": "R4rxDXQy2xjJ"
      },
      "outputs": [],
      "source": [
        "BATCH_SIZE = 512"
      ]
    },
    {
      "cell_type": "code",
      "execution_count": 46,
      "metadata": {
        "id": "_UbWsYUC2xjJ"
      },
      "outputs": [],
      "source": [
        "dataset_loader = DataLoader(dataset, shuffle=True, batch_size=BATCH_SIZE)"
      ]
    },
    {
      "cell_type": "code",
      "execution_count": 47,
      "metadata": {
        "id": "jM6Nh5Ps2xjK"
      },
      "outputs": [],
      "source": [
        "for x, y in dataset_loader:\n",
        "    break"
      ]
    },
    {
      "cell_type": "code",
      "execution_count": 48,
      "metadata": {
        "colab": {
          "base_uri": "https://localhost:8080/"
        },
        "id": "WLPQdKG72xjK",
        "outputId": "cddbb4f1-d6db-499a-853f-90b4b204484e"
      },
      "outputs": [
        {
          "output_type": "execute_result",
          "data": {
            "text/plain": [
              "tensor([ 315, 5768,   13,  886,  160])"
            ]
          },
          "metadata": {},
          "execution_count": 48
        }
      ],
      "source": [
        "x[:5]"
      ]
    },
    {
      "cell_type": "code",
      "execution_count": 49,
      "metadata": {
        "colab": {
          "base_uri": "https://localhost:8080/"
        },
        "id": "O0d2aigd2xjL",
        "outputId": "6b80669c-deae-4f0d-9ee0-c3d860e128e4"
      },
      "outputs": [
        {
          "output_type": "execute_result",
          "data": {
            "text/plain": [
              "tensor([1867,  109, 4996,  153,  248])"
            ]
          },
          "metadata": {},
          "execution_count": 49
        }
      ],
      "source": [
        "y[:5]"
      ]
    },
    {
      "cell_type": "code",
      "execution_count": 50,
      "metadata": {
        "colab": {
          "base_uri": "https://localhost:8080/"
        },
        "id": "XRbGSis_2xjL",
        "outputId": "5018cf2a-9965-45d1-f245-1133b5820c91"
      },
      "outputs": [
        {
          "output_type": "execute_result",
          "data": {
            "text/plain": [
              "(torch.Size([512]), torch.Size([512]))"
            ]
          },
          "metadata": {},
          "execution_count": 50
        }
      ],
      "source": [
        "x.shape, y.shape"
      ]
    },
    {
      "cell_type": "code",
      "execution_count": 51,
      "metadata": {
        "id": "gKdWFKDc2xjM"
      },
      "outputs": [],
      "source": [
        "class CBOW(torch.nn.Module):\n",
        "\n",
        "    def __init__(self, vocab_size, embedding_dim, pad_index):\n",
        "\n",
        "        super().__init__()\n",
        "\n",
        "        if pad_index > 0:\n",
        "            vocab_size += 1\n",
        "\n",
        "        self.in_embedding = torch.nn.Embedding(num_embeddings=vocab_size,\n",
        "                                               embedding_dim=embedding_dim,\n",
        "                                               padding_idx=pad_index)\n",
        "\n",
        "        self.out_embedding = torch.nn.Linear(in_features=embedding_dim,\n",
        "                                             out_features=vocab_size, bias=False)\n",
        "\n",
        "    def forward(self, x):\n",
        "\n",
        "        x = self.in_embedding(x).sum(dim=-2)\n",
        "        x = self.out_embedding(x)\n",
        "\n",
        "        return x"
      ]
    },
    {
      "cell_type": "markdown",
      "metadata": {
        "id": "UDujK-3M2xjM"
      },
      "source": [
        "# Мы будем учить модель Skipgram\n",
        "Реализуйте ее"
      ]
    },
    {
      "cell_type": "code",
      "execution_count": 52,
      "metadata": {
        "id": "ExARAk602xjN"
      },
      "outputs": [],
      "source": [
        "class SkipGram(torch.nn.Module):\n",
        "    def __init__(self, vocab_size, embedding_dim):\n",
        "\n",
        "        super().__init__()\n",
        "\n",
        "        self.in_embedding = torch.nn.Embedding(num_embeddings=vocab_size,\n",
        "                                               embedding_dim=embedding_dim)\n",
        "\n",
        "        self.out_embedding = torch.nn.Linear(in_features=embedding_dim,\n",
        "                                             out_features=vocab_size, bias=False)\n",
        "\n",
        "    def forward(self, x):\n",
        "\n",
        "        x = self.in_embedding(x)\n",
        "        #.sum(dim=-2)\n",
        "        x = self.out_embedding(x)\n",
        "\n",
        "        return x"
      ]
    },
    {
      "cell_type": "code",
      "execution_count": null,
      "metadata": {
        "id": "sQqd3_jn2xjN"
      },
      "outputs": [],
      "source": [
        "#from word2vec_utils import SkipGram"
      ]
    },
    {
      "cell_type": "code",
      "execution_count": 53,
      "metadata": {
        "id": "94gk7Zsm2xjO"
      },
      "outputs": [],
      "source": [
        "# размерность эмбеддинга\n",
        "# маленькая, чтобы мы могли недолго поучить ворд2век и увидеть результаты\n",
        "EMBEDDING_DIM = 20"
      ]
    },
    {
      "cell_type": "code",
      "execution_count": 54,
      "metadata": {
        "id": "6jeGuKwv2xjO"
      },
      "outputs": [],
      "source": [
        "model = SkipGram(vocab_size=len(word2index), embedding_dim=EMBEDDING_DIM)"
      ]
    },
    {
      "cell_type": "code",
      "execution_count": 55,
      "metadata": {
        "colab": {
          "base_uri": "https://localhost:8080/"
        },
        "id": "9uWwOy-K2xjP",
        "outputId": "e56f12b4-6521-4277-dc4a-49a408a59a13"
      },
      "outputs": [
        {
          "output_type": "execute_result",
          "data": {
            "text/plain": [
              "torch.Size([512, 13076])"
            ]
          },
          "metadata": {},
          "execution_count": 55
        }
      ],
      "source": [
        "with torch.no_grad():\n",
        "    pred = model(x)\n",
        "\n",
        "pred.shape"
      ]
    },
    {
      "cell_type": "code",
      "execution_count": 56,
      "metadata": {
        "id": "SfIiQj0O2xjQ"
      },
      "outputs": [],
      "source": [
        "optimizer = torch.optim.Adam(params=model.parameters(), lr=0.0001)\n",
        "\n",
        "# aka loss function\n",
        "criterion = torch.nn.CrossEntropyLoss()"
      ]
    },
    {
      "cell_type": "markdown",
      "metadata": {
        "id": "y-QrX5Ad2xjQ"
      },
      "source": [
        "# Допишите обучалку"
      ]
    },
    {
      "cell_type": "code",
      "execution_count": 57,
      "metadata": {
        "colab": {
          "base_uri": "https://localhost:8080/"
        },
        "id": "nm7HgnNx2xjR",
        "outputId": "8b54b341-9bbb-4fbe-b5f6-836532c5295c"
      },
      "outputs": [
        {
          "output_type": "stream",
          "name": "stderr",
          "text": [
            "Epoch 1: 2983424it [06:32, 7601.30it/s, loss=7.4]                             \n",
            "Epoch 2: 2983424it [06:34, 7566.86it/s, loss=7.31]\n",
            "Epoch 3: 2983424it [06:30, 7643.75it/s, loss=7.11]\n"
          ]
        }
      ],
      "source": [
        "epochs = 3\n",
        "\n",
        "losses = []\n",
        "\n",
        "for n_epoch in range(epochs):\n",
        "\n",
        "    try:\n",
        "\n",
        "        progress_bar = tqdm(total=len(dataset_loader.dataset), desc='Epoch {}'.format(n_epoch + 1))\n",
        "\n",
        "        for x_train, y_train in dataset_loader:\n",
        "\n",
        "            y_pred = model(x_train)\n",
        "\n",
        "            loss = criterion(y_pred, y_train)\n",
        "\n",
        "            loss.backward()\n",
        "            optimizer.step()\n",
        "\n",
        "            losses.append(loss.item())\n",
        "\n",
        "            progress_bar.set_postfix(loss=np.mean(losses[-100:]))\n",
        "\n",
        "            progress_bar.update(x.shape[0])\n",
        "\n",
        "        progress_bar.close()\n",
        "\n",
        "    except KeyboardInterrupt:\n",
        "\n",
        "        progress_bar.close()\n",
        "        break"
      ]
    },
    {
      "cell_type": "code",
      "execution_count": 58,
      "metadata": {
        "colab": {
          "base_uri": "https://localhost:8080/",
          "height": 1000
        },
        "id": "AT8N4MDN2xjR",
        "outputId": "b522ba3f-c54f-4c67-a02f-f46e8ed54280"
      },
      "outputs": [
        {
          "output_type": "execute_result",
          "data": {
            "text/plain": [
              "[<matplotlib.lines.Line2D at 0x7bac3d80d540>]"
            ]
          },
          "metadata": {},
          "execution_count": 58
        },
        {
          "output_type": "display_data",
          "data": {
            "text/plain": [
              "<Figure size 1500x1500 with 1 Axes>"
            ],
            "image/png": "[encoded data removed]"
          },
          "metadata": {}
        }
      ],
      "source": [
        "plt.title('SkipGram Training Process')\n",
        "plt.xlabel('Itearations')\n",
        "plt.ylabel('Loss')\n",
        "plt.grid()\n",
        "plt.plot(losses)"
      ]
    },
    {
      "cell_type": "code",
      "execution_count": 59,
      "metadata": {
        "id": "qogapVHa2xjS"
      },
      "outputs": [],
      "source": [
        "# проверка, что хоть что-то выучилось\n",
        "assert np.mean(losses[-1000:]) < 7.5"
      ]
    },
    {
      "cell_type": "code",
      "execution_count": 60,
      "metadata": {
        "id": "uD8tiT6t2xjT"
      },
      "outputs": [],
      "source": [
        "embedding_matrix = model.in_embedding.weight.detach()"
      ]
    },
    {
      "cell_type": "code",
      "execution_count": 61,
      "metadata": {
        "id": "wpa12fOW2xjT"
      },
      "outputs": [],
      "source": [
        "def cos_sim(embedding_matrix, token2id, word1, word2):\n",
        "\n",
        "    i1 = token2id[word1]\n",
        "    i2 = token2id[word2]\n",
        "\n",
        "    v1, v2 = embedding_matrix[i1], embedding_matrix[i2]\n",
        "\n",
        "    v1_n = v1.div(v1.norm(keepdim=True))\n",
        "    v2_n = v2.div(v2.norm(keepdim=True))\n",
        "\n",
        "    similarity = torch.dot(v1_n, v2_n).item()\n",
        "\n",
        "    return similarity"
      ]
    },
    {
      "cell_type": "markdown",
      "metadata": {
        "id": "A87pQL052xjU"
      },
      "source": [
        "# Косинусная близость\n",
        "От 0 до 1, где 0 - вектора абсолютно разные, где 1 - идентичные."
      ]
    },
    {
      "cell_type": "code",
      "execution_count": 62,
      "metadata": {
        "colab": {
          "base_uri": "https://localhost:8080/"
        },
        "id": "agSd_XUm2xjU",
        "outputId": "9c397c4b-e6c4-423a-aebf-85ddf5badce7"
      },
      "outputs": [
        {
          "output_type": "execute_result",
          "data": {
            "text/plain": [
              "0.8521174192428589"
            ]
          },
          "metadata": {},
          "execution_count": 62
        }
      ],
      "source": [
        "cos_sim(embedding_matrix, word2index, 'день', 'месяц')"
      ]
    },
    {
      "cell_type": "code",
      "execution_count": 63,
      "metadata": {
        "colab": {
          "base_uri": "https://localhost:8080/"
        },
        "id": "VpEXvXiv2xjU",
        "outputId": "1faddc7e-03f5-4bd8-df31-e9d4167375de"
      },
      "outputs": [
        {
          "output_type": "execute_result",
          "data": {
            "text/plain": [
              "0.7956888675689697"
            ]
          },
          "metadata": {},
          "execution_count": 63
        }
      ],
      "source": [
        "cos_sim(embedding_matrix, word2index, 'минута', 'месяц')"
      ]
    },
    {
      "cell_type": "code",
      "execution_count": 64,
      "metadata": {
        "colab": {
          "base_uri": "https://localhost:8080/"
        },
        "id": "ph_98vns2xjV",
        "outputId": "b6f2c8fb-eb04-4e88-a687-eae66dbd0bf7"
      },
      "outputs": [
        {
          "output_type": "execute_result",
          "data": {
            "text/plain": [
              "0.5492122173309326"
            ]
          },
          "metadata": {},
          "execution_count": 64
        }
      ],
      "source": [
        "cos_sim(embedding_matrix, word2index, 'сотрудник', 'сотрудница')"
      ]
    },
    {
      "cell_type": "code",
      "execution_count": 65,
      "metadata": {
        "colab": {
          "base_uri": "https://localhost:8080/"
        },
        "id": "kBPiARip2xjV",
        "outputId": "c53c6147-bc56-4277-a885-223a7504d598"
      },
      "outputs": [
        {
          "output_type": "execute_result",
          "data": {
            "text/plain": [
              "0.5770701169967651"
            ]
          },
          "metadata": {},
          "execution_count": 65
        }
      ],
      "source": [
        "cos_sim(embedding_matrix, word2index, 'вклад', 'перевод')"
      ]
    },
    {
      "cell_type": "code",
      "execution_count": 66,
      "metadata": {
        "colab": {
          "base_uri": "https://localhost:8080/",
          "height": 36
        },
        "id": "ljF13Jxv2xjW",
        "outputId": "5c295941-8fab-46a4-dc1a-e1ebfd63220b"
      },
      "outputs": [
        {
          "output_type": "execute_result",
          "data": {
            "text/plain": [
              "'Косинусная близость слова \"день\" к случайному выбраному слову \"гражданский\" равна 0.591'"
            ],
            "application/vnd.google.colaboratory.intrinsic+json": {
              "type": "string"
            }
          },
          "metadata": {},
          "execution_count": 66
        }
      ],
      "source": [
        "random_word = random.choice(list(word2index.keys()))\n",
        "sim = cos_sim(embedding_matrix, word2index, 'день', random_word)\n",
        "'Косинусная близость слова \"день\" к случайному выбраному слову \"{}\" равна {:.3f}'.format(random_word, sim)"
      ]
    },
    {
      "cell_type": "code",
      "execution_count": 67,
      "metadata": {
        "id": "idGZkkd72xjX"
      },
      "outputs": [],
      "source": [
        "freq = {}\n",
        "\n",
        "for text in corpus:\n",
        "    for token in text:\n",
        "        if token in freq:\n",
        "            freq[token] += 1\n",
        "        else:\n",
        "            freq[token] = 1"
      ]
    },
    {
      "cell_type": "code",
      "execution_count": 68,
      "metadata": {
        "id": "WQP3PBIJ2xjX"
      },
      "outputs": [],
      "source": [
        "sorted_freq = [(k, freq[k]) for k in sorted(freq, key=freq.get, reverse=True)]\n",
        "top_sorted_freq = sorted_freq[0:200]"
      ]
    },
    {
      "cell_type": "code",
      "execution_count": 69,
      "metadata": {
        "colab": {
          "base_uri": "https://localhost:8080/"
        },
        "id": "C3jad0EO2xjY",
        "outputId": "e896ad67-ce18-438a-bbc1-7e69bfa8b238"
      },
      "outputs": [
        {
          "output_type": "stream",
          "name": "stdout",
          "text": [
            "[t-SNE] Computing 91 nearest neighbors...\n",
            "[t-SNE] Indexed 13076 samples in 0.001s...\n",
            "[t-SNE] Computed neighbors for 13076 samples in 1.075s...\n",
            "[t-SNE] Computed conditional probabilities for sample 1000 / 13076\n",
            "[t-SNE] Computed conditional probabilities for sample 2000 / 13076\n",
            "[t-SNE] Computed conditional probabilities for sample 3000 / 13076\n",
            "[t-SNE] Computed conditional probabilities for sample 4000 / 13076\n",
            "[t-SNE] Computed conditional probabilities for sample 5000 / 13076\n",
            "[t-SNE] Computed conditional probabilities for sample 6000 / 13076\n",
            "[t-SNE] Computed conditional probabilities for sample 7000 / 13076\n",
            "[t-SNE] Computed conditional probabilities for sample 8000 / 13076\n",
            "[t-SNE] Computed conditional probabilities for sample 9000 / 13076\n",
            "[t-SNE] Computed conditional probabilities for sample 10000 / 13076\n",
            "[t-SNE] Computed conditional probabilities for sample 11000 / 13076\n",
            "[t-SNE] Computed conditional probabilities for sample 12000 / 13076\n",
            "[t-SNE] Computed conditional probabilities for sample 13000 / 13076\n",
            "[t-SNE] Computed conditional probabilities for sample 13076 / 13076\n",
            "[t-SNE] Mean sigma: 1.030135\n",
            "[t-SNE] Computed conditional probabilities in 0.370s\n",
            "[t-SNE] Iteration 50: error = 97.7804031, gradient norm = 0.0000936 (50 iterations in 6.962s)\n",
            "[t-SNE] Iteration 100: error = 97.5596695, gradient norm = 0.0030996 (50 iterations in 11.175s)\n",
            "[t-SNE] Iteration 150: error = 97.0113373, gradient norm = 0.0000254 (50 iterations in 8.069s)\n",
            "[t-SNE] Iteration 200: error = 97.0099182, gradient norm = 0.0000271 (50 iterations in 4.970s)\n",
            "[t-SNE] Iteration 250: error = 97.0099335, gradient norm = 0.0000259 (50 iterations in 6.362s)\n",
            "[t-SNE] KL divergence after 250 iterations with early exaggeration: 97.009933\n",
            "[t-SNE] Iteration 300: error = 4.6596766, gradient norm = 0.0154283 (50 iterations in 6.865s)\n",
            "[t-SNE] Iteration 350: error = 4.2268338, gradient norm = 0.0054226 (50 iterations in 9.130s)\n",
            "[t-SNE] Iteration 400: error = 4.1123590, gradient norm = 0.0054622 (50 iterations in 8.271s)\n",
            "[t-SNE] Iteration 450: error = 4.0368133, gradient norm = 0.0052883 (50 iterations in 6.695s)\n",
            "[t-SNE] Iteration 500: error = 3.9829609, gradient norm = 0.0051312 (50 iterations in 8.182s)\n",
            "[t-SNE] Iteration 550: error = 3.9415288, gradient norm = 0.0049737 (50 iterations in 6.655s)\n",
            "[t-SNE] Iteration 600: error = 3.9083796, gradient norm = 0.0048773 (50 iterations in 8.137s)\n",
            "[t-SNE] Iteration 650: error = 3.8815417, gradient norm = 0.0046863 (50 iterations in 8.191s)\n",
            "[t-SNE] Iteration 700: error = 3.8592019, gradient norm = 0.0045200 (50 iterations in 6.729s)\n",
            "[t-SNE] Iteration 750: error = 3.8404541, gradient norm = 0.0042986 (50 iterations in 8.151s)\n",
            "[t-SNE] Iteration 800: error = 3.8247902, gradient norm = 0.0040906 (50 iterations in 6.716s)\n",
            "[t-SNE] Iteration 850: error = 3.8112826, gradient norm = 0.0039080 (50 iterations in 8.228s)\n",
            "[t-SNE] Iteration 900: error = 3.7997503, gradient norm = 0.0037140 (50 iterations in 8.297s)\n",
            "[t-SNE] Iteration 950: error = 3.7898643, gradient norm = 0.0034712 (50 iterations in 6.892s)\n",
            "[t-SNE] Iteration 1000: error = 3.7813463, gradient norm = 0.0032913 (50 iterations in 8.334s)\n",
            "[t-SNE] KL divergence after 1000 iterations: 3.781346\n"
          ]
        }
      ],
      "source": [
        "tsne = TSNE(n_components=2, init='pca', random_state=42, verbose=2)\n",
        "reduced = tsne.fit_transform(embedding_matrix)"
      ]
    },
    {
      "cell_type": "code",
      "execution_count": 70,
      "metadata": {
        "id": "LYRB5ZJ02xjb"
      },
      "outputs": [],
      "source": [
        "top_words = [a for a,_ in top_sorted_freq]"
      ]
    },
    {
      "cell_type": "code",
      "execution_count": 71,
      "metadata": {
        "id": "VR09qXtE2xjc"
      },
      "outputs": [],
      "source": [
        "inds = [word2index[word] for word in top_words]\n",
        "x_coords = [coords[0] for coords in reduced[inds]]\n",
        "y_coords = [coords[1] for coords in reduced[inds]]"
      ]
    },
    {
      "cell_type": "code",
      "execution_count": 72,
      "metadata": {
        "colab": {
          "base_uri": "https://localhost:8080/",
          "height": 1000
        },
        "id": "a7SLzxNJ2xjc",
        "outputId": "aeeb1d09-f846-4575-b0b6-093fb30e3904"
      },
      "outputs": [
        {
          "output_type": "display_data",
          "data": {
            "text/plain": [
              "<Figure size 1500x1500 with 1 Axes>"
            ],
            "image/png": "[encoded data removed]"
          },
          "metadata": {}
        }
      ],
      "source": [
        "for (x, y, word) in zip(x_coords, y_coords, top_words):\n",
        "    plt.scatter(x, y, marker='.', color='blue')\n",
        "    plt.text(x+0.01, y+0.01, word, fontsize=9)\n",
        "plt.show()"
      ]
    },
    {
      "cell_type": "code",
      "execution_count": null,
      "metadata": {
        "id": "vQKjqPDc2xjd"
      },
      "outputs": [],
      "source": []
    },
    {
      "cell_type": "markdown",
      "source": [
        "# Оценка\n",
        "1. Вы добрались сюда и все работает, значит уже получили 7 баллов.\n",
        "2. 8 баллов - Взяли корпус для оценка качества эмбеддингов [здесь](https://rusvectores.org/static/testsets/ru_simlex965_tagged.tsv). Описание к нему [здесь](https://arxiv.org/pdf/1801.06407.pdf). Его английская версия для понимания, того что же это такое [тут](https://fh295.github.io/simlex.html). Если в кратце - он похож а гугл аналогии, просто иначе составлен. Определили качество своих эмбеддингов. Как качество измерить? Можете все значения отнормировать (привести к 1) и затем считать MSE между тем что у вас и что в оригинале.\n",
        "3. 9 баллов - Поставили эксперименты, поменяли любые параметры, хоть корпус увеличили или как то почистили. Показали метрики до и после. После должно быть лучше, иначе это все еще 8 баллов.\n",
        "4. 10 баллов - удивили своим подходом (или просто удивили) пока делили на 9 баллов"
      ],
      "metadata": {
        "collapsed": false,
        "id": "hh2zin8I2xjd"
      }
    },
    {
      "cell_type": "code",
      "source": [],
      "metadata": {
        "id": "y9vA0fz3Vpyr"
      },
      "execution_count": null,
      "outputs": []
    }
  ],
  "metadata": {
    "kernelspec": {
      "display_name": "Python 3",
      "language": "python",
      "name": "python3"
    },
    "language_info": {
      "codemirror_mode": {
        "name": "ipython",
        "version": 3
      },
      "file_extension": ".py",
      "mimetype": "text/x-python",
      "name": "python",
      "nbconvert_exporter": "python",
      "pygments_lexer": "ipython3",
      "version": "3.6.8"
    },
    "colab": {
      "provenance": []
    }
  },
  "nbformat": 4,
  "nbformat_minor": 0
}